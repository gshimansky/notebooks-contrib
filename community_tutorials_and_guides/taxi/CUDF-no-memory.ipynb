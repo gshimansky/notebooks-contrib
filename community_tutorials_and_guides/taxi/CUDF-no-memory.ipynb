{
 "cells": [
  {
   "cell_type": "code",
   "execution_count": null,
   "id": "078e906a",
   "metadata": {},
   "outputs": [],
   "source": [
    "import glob\n",
    "import cudf\n",
    "\n",
    "base_path = '/yellow-taxi/'"
   ]
  },
  {
   "cell_type": "code",
   "execution_count": null,
   "id": "e1a27a1f",
   "metadata": {},
   "outputs": [],
   "source": [
    "df_2014_01 = cudf.read_csv(base_path + '2014/yellow_tripdata_2014-01.csv')\n",
    "df_2014_02 = cudf.read_csv(base_path + '2014/yellow_tripdata_2014-02.csv')\n",
    "df_2014_03 = cudf.read_csv(base_path + '2014/yellow_tripdata_2014-03.csv')\n",
    "df_2014_04 = cudf.read_csv(base_path + '2014/yellow_tripdata_2014-04.csv')\n",
    "df_2014_05 = cudf.read_csv(base_path + '2014/yellow_tripdata_2014-05.csv')\n",
    "df_2014_06 = cudf.read_csv(base_path + '2014/yellow_tripdata_2014-06.csv')\n",
    "df_2014_07 = cudf.read_csv(base_path + '2014/yellow_tripdata_2014-07.csv')\n",
    "df_2014_08 = cudf.read_csv(base_path + '2014/yellow_tripdata_2014-08.csv')\n",
    "df_2014_09 = cudf.read_csv(base_path + '2014/yellow_tripdata_2014-09.csv')\n",
    "df_2014_10 = cudf.read_csv(base_path + '2014/yellow_tripdata_2014-10.csv')\n",
    "df_2014_11 = cudf.read_csv(base_path + '2014/yellow_tripdata_2014-11.csv')\n",
    "df_2014_12 = cudf.read_csv(base_path + '2014/yellow_tripdata_2014-12.csv')\n",
    "df_2014 = cudf.concat([df_2014_01, df_2014_02, df_2014_03, df_2014_04,\n",
    "                      df_2014_05, df_2014_06, df_2014_07, df_2014_08,\n",
    "                      df_2014_09, df_2014_10, df_2014_11, df_2014_12])"
   ]
  },
  {
   "cell_type": "code",
   "execution_count": null,
   "id": "616ca48d",
   "metadata": {},
   "outputs": [],
   "source": [
    "df_2014 = cudf.concat([\n",
    "    cudf.read_csv(x, parse_dates=[' pickup_datetime', ' dropoff_datetime'])\n",
    "    for x in glob.glob(base_path+'2014/yellow_*.csv')])"
   ]
  },
  {
   "cell_type": "code",
   "execution_count": null,
   "id": "5db7b6ec",
   "metadata": {},
   "outputs": [],
   "source": [
    "df_2014 = cudf.read_csv(base_path + '2014/yellow_tripdata_2014-01.csv')\n",
    "df_2014 = cudf.concat([df_2014, cudf.read_csv(base_path + '2014/yellow_tripdata_2014-02.csv')])\n",
    "df_2014 = cudf.concat([df_2014, cudf.read_csv(base_path + '2014/yellow_tripdata_2014-03.csv')])\n",
    "df_2014 = cudf.concat([df_2014, cudf.read_csv(base_path + '2014/yellow_tripdata_2014-04.csv')])\n",
    "df_2014 = cudf.concat([df_2014, cudf.read_csv(base_path + '2014/yellow_tripdata_2014-05.csv')])\n",
    "df_2014 = cudf.concat([df_2014, cudf.read_csv(base_path + '2014/yellow_tripdata_2014-06.csv')])\n",
    "df_2014 = cudf.concat([df_2014, cudf.read_csv(base_path + '2014/yellow_tripdata_2014-07.csv')])\n",
    "df_2014 = cudf.concat([df_2014, cudf.read_csv(base_path + '2014/yellow_tripdata_2014-08.csv')])\n",
    "df_2014 = cudf.concat([df_2014, cudf.read_csv(base_path + '2014/yellow_tripdata_2014-09.csv')])\n",
    "df_2014 = cudf.concat([df_2014, cudf.read_csv(base_path + '2014/yellow_tripdata_2014-10.csv')])\n",
    "df_2014 = cudf.concat([df_2014, cudf.read_csv(base_path + '2014/yellow_tripdata_2014-11.csv')])\n",
    "df_2014 = cudf.concat([df_2014, cudf.read_csv(base_path + '2014/yellow_tripdata_2014-12.csv')])"
   ]
  },
  {
   "cell_type": "code",
   "execution_count": null,
   "id": "541fea71",
   "metadata": {},
   "outputs": [],
   "source": []
  }
 ],
 "metadata": {
  "kernelspec": {
   "display_name": "Python 3 (ipykernel)",
   "language": "python",
   "name": "python3"
  },
  "language_info": {
   "codemirror_mode": {
    "name": "ipython",
    "version": 3
   },
   "file_extension": ".py",
   "mimetype": "text/x-python",
   "name": "python",
   "nbconvert_exporter": "python",
   "pygments_lexer": "ipython3",
   "version": "3.9.7"
  }
 },
 "nbformat": 4,
 "nbformat_minor": 5
}
